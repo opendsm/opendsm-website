{
 "cells": [
  {
   "cell_type": "code",
   "execution_count": 1,
   "metadata": {},
   "outputs": [],
   "source": [
    "# inline plotting\n",
    "%matplotlib inline\n",
    "\n",
    "# allow live package editing\n",
    "%load_ext autoreload\n",
    "%autoreload 2"
   ]
  },
  {
   "cell_type": "code",
   "execution_count": 2,
   "metadata": {},
   "outputs": [
    {
     "name": "stdout",
     "output_type": "stream",
     "text": [
      "Image at /app/applied_data_science/opendsm/website/src/images/eemeter/billing_model/basic_model.png has been updated to have a white background.\n"
     ]
    }
   ],
   "source": [
    "from PIL import Image\n",
    "\n",
    "# Load the image\n",
    "img_path = \"/app/applied_data_science/opendsm/website/src/images/eemeter/billing_model/basic_model.png\"\n",
    "img = Image.open(img_path).convert(\"RGBA\")\n",
    "\n",
    "# Create a white background image\n",
    "white_bg = Image.new(\"RGBA\", img.size, (255, 255, 255, 255))\n",
    "\n",
    "# Composite the original image onto the white background\n",
    "composited = Image.alpha_composite(white_bg, img)\n",
    "\n",
    "# Convert back to RGB (no alpha) and save, overwriting the original\n",
    "composited.convert(\"RGB\").save(img_path)\n",
    "\n",
    "print(f\"Image at {img_path} has been updated to have a white background.\")\n"
   ]
  }
 ],
 "metadata": {
  "hide_input": false,
  "kernelspec": {
   "display_name": "Python 3",
   "language": "python",
   "name": "python3"
  },
  "language_info": {
   "codemirror_mode": {
    "name": "ipython",
    "version": 3
   },
   "file_extension": ".py",
   "mimetype": "text/x-python",
   "name": "python",
   "nbconvert_exporter": "python",
   "pygments_lexer": "ipython3",
   "version": "3.11.4"
  }
 },
 "nbformat": 4,
 "nbformat_minor": 4
}
